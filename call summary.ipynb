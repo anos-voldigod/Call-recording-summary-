{
 "cells": [
  {
   "cell_type": "code",
   "execution_count": 8,
   "metadata": {},
   "outputs": [
    {
     "name": "stdout",
     "output_type": "stream",
     "text": [
      "job r0i2twsbgr submitted successfully, waiting for transcript\n",
      "Good afternoon, everyone, and welcome to Fintech Plus Inc.. Second quarter 2023 earnings Call. I'm John Doe, CEO of Fintech Plus. We've had a stellar Q2 with a revenue of 125 million, a 25% increase year over year. Our gross profit margin stands at a solid 58%, due in part to cost efficiencies gained from our scalable business model. Our EBITDA surge to 37.5 million, translating to a remarkable 30% EBITDA margin. Our net income for the quarter rose to 16 million, which is a noteworthy increase from 10 million in Q2 2022. Our total addressable market has grown substantially thanks to the expansion of our high yield savings product line and the new robo advisor platform. We've been diversifying our asset backed securities portfolio, investing heavily in collateralized debt obligations and residential mortgage backed securities. We've also invested 25 million in Triple-A rated corporate bonds, enhancing our risk adjusted returns. As for a balance sheet, total assets reached 1.5 billion, with total liabilities at 900 million, leaving us with a solid equity base of 600 million. Our debt to equity ratio stands at 1.5. A healthy figure considering our expansionary phase. We continue to see substantial organic, organic user growth, with customer acquisition cost dropping by 15% and lifetime value growing by 25%. Our LTV CAC ratio is at an impressive, impressive 3.5% ex. In terms of risk management, we have a value at risk model in place with a 99% confidence level, indicating that our maximum loss will not exceed 5 million in the next trading day. We've adopted a conservative approach to managing our leverage and have a healthy tier one capital ratio of 12.5%. Our forecast for the coming quarter is positive. We expect revenue to be around 135,000,008% quarter over quarter growth, driven primarily by our cutting edge blockchain chain solutions and AI driven predictive analytics. We're also excited about the upcoming IPO of our fintech subsidiary, Pay Plus, which we expect to raise 200 million, significantly bolstering our liquidity and paving the way for aggressive growth strategies. We thank our shareholders for their continued faith in us, and we look forward to an even more successful Q3. Thank you so much.\n"
     ]
    }
   ],
   "source": [
    "from speechmatics.models import ConnectionSettings\n",
    "from speechmatics.batch_client import BatchClient\n",
    "from httpx import HTTPStatusError\n",
    "\n",
    "API_KEY = \"Kren4kt5GXMPlTMnobOwa8XG2D1acMPk\"\n",
    "PATH_TO_FILE = r\"C:\\Users\\91999\\Downloads\\EarningsCall.wav\"\n",
    "LANGUAGE = \"en\"\n",
    "\n",
    "settings = ConnectionSettings(\n",
    "    url=\"https://asr.api.speechmatics.com/v2\",\n",
    "    auth_token=API_KEY,\n",
    ")\n",
    "conf = {\n",
    "    \"type\": \"transcription\",\n",
    "    \"transcription_config\": {\n",
    "        \"language\": LANGUAGE\n",
    "    }\n",
    "}\n",
    "with BatchClient(settings) as client:\n",
    "    try:\n",
    "        job_id = client.submit_job(\n",
    "            audio=PATH_TO_FILE,\n",
    "            transcription_config=conf,\n",
    "        )\n",
    "        print(f'job {job_id} submitted successfully, waiting for transcript')\n",
    "        transcript = client.wait_for_completion(job_id, transcription_format='txt')\n",
    "        print(transcript)\n",
    "    except HTTPStatusError as e:\n",
    "        if e.response.status_code == 401:\n",
    "            print('Invalid API key - Check your API_KEY at the top of the code!')\n",
    "        elif e.response.status_code == 400:\n",
    "            print(e.response.json()['detail'])\n",
    "        else:\n",
    "            raise e\n",
    "        \n",
    "     \n",
    "import tkinter as tk\n",
    "from tkinter import filedialog, messagebox\n",
    "\n",
    "def upload_file():\n",
    "    file_path = filedialog.askopenfilename(\n",
    "        filetypes=[(\"Audio Files\", \"*.wav\")],\n",
    "        title=\"Choose an audio file\"\n",
    "    )\n",
    "    if file_path:\n",
    "        transcribe_audio(file_path)\n",
    "\n",
    "root = tk.Tk()\n",
    "root.title(\"Audio Transcription\")\n",
    "root.geometry(\"300x150\")\n",
    "\n",
    "upload_button = tk.Button(root, text=\"Upload Audio File\", command=upload_file)\n",
    "upload_button.pack(pady=20)\n",
    "\n",
    "root.mainloop()   "
   ]
  }
 ],
 "metadata": {
  "kernelspec": {
   "display_name": "Python 3",
   "language": "python",
   "name": "python3"
  },
  "language_info": {
   "codemirror_mode": {
    "name": "ipython",
    "version": 3
   },
   "file_extension": ".py",
   "mimetype": "text/x-python",
   "name": "python",
   "nbconvert_exporter": "python",
   "pygments_lexer": "ipython3",
   "version": "3.10.6"
  }
 },
 "nbformat": 4,
 "nbformat_minor": 2
}
